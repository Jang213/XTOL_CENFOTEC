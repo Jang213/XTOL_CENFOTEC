{
 "cells": [
  {
   "cell_type": "code",
   "execution_count": 188,
   "metadata": {},
   "outputs": [],
   "source": [
    "#imports\n",
    "#numpy, pandas, scipy, math, matplotlib\n",
    "import numpy as np\n",
    "import pandas as pd\n",
    "import scipy\n",
    "from math import sqrt\n",
    "import matplotlib.pyplot as plt\n",
    "import seaborn as sns\n",
    "\n",
    "#estimators\n",
    "from sklearn.ensemble import RandomForestRegressor\n",
    "from sklearn.linear_model import LinearRegression\n",
    "from sklearn.svm import SVR\n",
    "from sklearn import linear_model\n",
    "\n",
    "\n",
    "#model metrics\n",
    "from sklearn.metrics import mean_squared_error\n",
    "from sklearn.metrics import r2_score\n",
    "\n",
    "from sklearn.model_selection import cross_val_score\n",
    "\n",
    "\n",
    "#cross metrics\n",
    "#from sklearn.cross_validation import train_test_split   -- Daba error --\n",
    "from sklearn.model_selection import train_test_split\n",
    "\n",
    "\n",
    "#Classsification Models\n",
    "from sklearn.metrics import accuracy_score, classification_report\n",
    "from sklearn.metrics import confusion_matrix\n",
    "\n",
    "from sklearn.ensemble import RandomForestClassifier, GradientBoostingClassifier\n",
    "from sklearn.tree import DecisionTreeClassifier\n",
    "from sklearn.naive_bayes import GaussianNB\n",
    "from sklearn.svm import SVC\n"
   ]
  },
  {
   "cell_type": "markdown",
   "metadata": {},
   "source": [
    "### - Carga de la Base"
   ]
  },
  {
   "cell_type": "code",
   "execution_count": 2,
   "metadata": {},
   "outputs": [
    {
     "data": {
      "text/html": [
       "<div>\n",
       "<style scoped>\n",
       "    .dataframe tbody tr th:only-of-type {\n",
       "        vertical-align: middle;\n",
       "    }\n",
       "\n",
       "    .dataframe tbody tr th {\n",
       "        vertical-align: top;\n",
       "    }\n",
       "\n",
       "    .dataframe thead th {\n",
       "        text-align: right;\n",
       "    }\n",
       "</style>\n",
       "<table border=\"1\" class=\"dataframe\">\n",
       "  <thead>\n",
       "    <tr style=\"text-align: right;\">\n",
       "      <th></th>\n",
       "      <th>ID</th>\n",
       "      <th>LIMIT_BAL</th>\n",
       "      <th>SEX</th>\n",
       "      <th>EDUCATION</th>\n",
       "      <th>MARRIAGE</th>\n",
       "      <th>AGE</th>\n",
       "      <th>PAY_0</th>\n",
       "      <th>PAY_2</th>\n",
       "      <th>PAY_3</th>\n",
       "      <th>PAY_4</th>\n",
       "      <th>...</th>\n",
       "      <th>BILL_AMT5</th>\n",
       "      <th>BILL_AMT6</th>\n",
       "      <th>PAY_AMT1</th>\n",
       "      <th>PAY_AMT2</th>\n",
       "      <th>PAY_AMT3</th>\n",
       "      <th>PAY_AMT4</th>\n",
       "      <th>PAY_AMT5</th>\n",
       "      <th>PAY_AMT6</th>\n",
       "      <th>default payment next month</th>\n",
       "      <th>age_bins</th>\n",
       "    </tr>\n",
       "  </thead>\n",
       "  <tbody>\n",
       "    <tr>\n",
       "      <th>0</th>\n",
       "      <td>1</td>\n",
       "      <td>3913</td>\n",
       "      <td>female</td>\n",
       "      <td>university</td>\n",
       "      <td>1</td>\n",
       "      <td>24</td>\n",
       "      <td>2</td>\n",
       "      <td>2</td>\n",
       "      <td>-1</td>\n",
       "      <td>-1</td>\n",
       "      <td>...</td>\n",
       "      <td>0</td>\n",
       "      <td>0</td>\n",
       "      <td>0</td>\n",
       "      <td>689</td>\n",
       "      <td>0</td>\n",
       "      <td>0</td>\n",
       "      <td>0</td>\n",
       "      <td>0</td>\n",
       "      <td>default</td>\n",
       "      <td>(21.0, 27.0]</td>\n",
       "    </tr>\n",
       "    <tr>\n",
       "      <th>1</th>\n",
       "      <td>2</td>\n",
       "      <td>2682</td>\n",
       "      <td>female</td>\n",
       "      <td>university</td>\n",
       "      <td>2</td>\n",
       "      <td>26</td>\n",
       "      <td>-1</td>\n",
       "      <td>2</td>\n",
       "      <td>0</td>\n",
       "      <td>0</td>\n",
       "      <td>...</td>\n",
       "      <td>3455</td>\n",
       "      <td>3261</td>\n",
       "      <td>0</td>\n",
       "      <td>1000</td>\n",
       "      <td>1000</td>\n",
       "      <td>1000</td>\n",
       "      <td>0</td>\n",
       "      <td>2000</td>\n",
       "      <td>default</td>\n",
       "      <td>(21.0, 27.0]</td>\n",
       "    </tr>\n",
       "    <tr>\n",
       "      <th>2</th>\n",
       "      <td>3</td>\n",
       "      <td>29239</td>\n",
       "      <td>female</td>\n",
       "      <td>university</td>\n",
       "      <td>2</td>\n",
       "      <td>34</td>\n",
       "      <td>0</td>\n",
       "      <td>0</td>\n",
       "      <td>0</td>\n",
       "      <td>0</td>\n",
       "      <td>...</td>\n",
       "      <td>14948</td>\n",
       "      <td>15549</td>\n",
       "      <td>1518</td>\n",
       "      <td>1500</td>\n",
       "      <td>1000</td>\n",
       "      <td>1000</td>\n",
       "      <td>1000</td>\n",
       "      <td>5000</td>\n",
       "      <td>not default</td>\n",
       "      <td>(31.0, 37.0]</td>\n",
       "    </tr>\n",
       "    <tr>\n",
       "      <th>3</th>\n",
       "      <td>4</td>\n",
       "      <td>46990</td>\n",
       "      <td>female</td>\n",
       "      <td>university</td>\n",
       "      <td>1</td>\n",
       "      <td>37</td>\n",
       "      <td>0</td>\n",
       "      <td>0</td>\n",
       "      <td>0</td>\n",
       "      <td>0</td>\n",
       "      <td>...</td>\n",
       "      <td>28959</td>\n",
       "      <td>29547</td>\n",
       "      <td>2000</td>\n",
       "      <td>2019</td>\n",
       "      <td>1200</td>\n",
       "      <td>1100</td>\n",
       "      <td>1069</td>\n",
       "      <td>1000</td>\n",
       "      <td>not default</td>\n",
       "      <td>(31.0, 37.0]</td>\n",
       "    </tr>\n",
       "    <tr>\n",
       "      <th>4</th>\n",
       "      <td>5</td>\n",
       "      <td>8617</td>\n",
       "      <td>male</td>\n",
       "      <td>university</td>\n",
       "      <td>1</td>\n",
       "      <td>57</td>\n",
       "      <td>-1</td>\n",
       "      <td>0</td>\n",
       "      <td>-1</td>\n",
       "      <td>0</td>\n",
       "      <td>...</td>\n",
       "      <td>19146</td>\n",
       "      <td>19131</td>\n",
       "      <td>2000</td>\n",
       "      <td>36681</td>\n",
       "      <td>10000</td>\n",
       "      <td>9000</td>\n",
       "      <td>689</td>\n",
       "      <td>679</td>\n",
       "      <td>not default</td>\n",
       "      <td>(43.0, 80.0]</td>\n",
       "    </tr>\n",
       "  </tbody>\n",
       "</table>\n",
       "<p>5 rows × 26 columns</p>\n",
       "</div>"
      ],
      "text/plain": [
       "   ID  LIMIT_BAL     SEX   EDUCATION  MARRIAGE  AGE  PAY_0  PAY_2  PAY_3  \\\n",
       "0   1       3913  female  university         1   24      2      2     -1   \n",
       "1   2       2682  female  university         2   26     -1      2      0   \n",
       "2   3      29239  female  university         2   34      0      0      0   \n",
       "3   4      46990  female  university         1   37      0      0      0   \n",
       "4   5       8617    male  university         1   57     -1      0     -1   \n",
       "\n",
       "   PAY_4  ...  BILL_AMT5  BILL_AMT6  PAY_AMT1  PAY_AMT2  PAY_AMT3  PAY_AMT4  \\\n",
       "0     -1  ...          0          0         0       689         0         0   \n",
       "1      0  ...       3455       3261         0      1000      1000      1000   \n",
       "2      0  ...      14948      15549      1518      1500      1000      1000   \n",
       "3      0  ...      28959      29547      2000      2019      1200      1100   \n",
       "4      0  ...      19146      19131      2000     36681     10000      9000   \n",
       "\n",
       "   PAY_AMT5  PAY_AMT6  default payment next month      age_bins  \n",
       "0         0         0                     default  (21.0, 27.0]  \n",
       "1         0      2000                     default  (21.0, 27.0]  \n",
       "2      1000      5000                 not default  (31.0, 37.0]  \n",
       "3      1069      1000                 not default  (31.0, 37.0]  \n",
       "4       689       679                 not default  (43.0, 80.0]  \n",
       "\n",
       "[5 rows x 26 columns]"
      ]
     },
     "execution_count": 2,
     "metadata": {},
     "output_type": "execute_result"
    }
   ],
   "source": [
    "#data\n",
    "rawData = pd.read_csv(\"C:/Data Analytics y Big Data/Modulo 2/Tareas/Tarea 3/default of credit card clients.csv\", header=0, sep=';', index_col=0)\n",
    "rawData.head()"
   ]
  },
  {
   "cell_type": "markdown",
   "metadata": {},
   "source": [
    "#### - Verificación de Tipos de Datos"
   ]
  },
  {
   "cell_type": "code",
   "execution_count": 3,
   "metadata": {},
   "outputs": [
    {
     "name": "stdout",
     "output_type": "stream",
     "text": [
      "<class 'pandas.core.frame.DataFrame'>\n",
      "Int64Index: 30201 entries, 0 to 30202\n",
      "Data columns (total 26 columns):\n",
      " #   Column                      Non-Null Count  Dtype \n",
      "---  ------                      --------------  ----- \n",
      " 0   ID                          30201 non-null  int64 \n",
      " 1   LIMIT_BAL                   30201 non-null  int64 \n",
      " 2   SEX                         30201 non-null  object\n",
      " 3   EDUCATION                   30201 non-null  object\n",
      " 4   MARRIAGE                    30201 non-null  int64 \n",
      " 5   AGE                         30201 non-null  int64 \n",
      " 6   PAY_0                       30201 non-null  int64 \n",
      " 7   PAY_2                       30201 non-null  int64 \n",
      " 8   PAY_3                       30201 non-null  int64 \n",
      " 9   PAY_4                       30201 non-null  int64 \n",
      " 10  PAY_5                       30201 non-null  int64 \n",
      " 11  PAY_6                       30201 non-null  int64 \n",
      " 12  BILL_AMT1                   30201 non-null  int64 \n",
      " 13  BILL_AMT2                   30201 non-null  int64 \n",
      " 14  BILL_AMT3                   30201 non-null  int64 \n",
      " 15  BILL_AMT4                   30201 non-null  int64 \n",
      " 16  BILL_AMT5                   30201 non-null  int64 \n",
      " 17  BILL_AMT6                   30201 non-null  int64 \n",
      " 18  PAY_AMT1                    30201 non-null  int64 \n",
      " 19  PAY_AMT2                    30201 non-null  int64 \n",
      " 20  PAY_AMT3                    30201 non-null  int64 \n",
      " 21  PAY_AMT4                    30201 non-null  int64 \n",
      " 22  PAY_AMT5                    30201 non-null  int64 \n",
      " 23  PAY_AMT6                    30201 non-null  int64 \n",
      " 24  default payment next month  30201 non-null  object\n",
      " 25  age_bins                    30134 non-null  object\n",
      "dtypes: int64(22), object(4)\n",
      "memory usage: 6.2+ MB\n"
     ]
    }
   ],
   "source": [
    "rawData.info()"
   ]
  },
  {
   "cell_type": "markdown",
   "metadata": {},
   "source": [
    "#### - Cambio de Tipos de Datos"
   ]
  },
  {
   "cell_type": "code",
   "execution_count": 4,
   "metadata": {},
   "outputs": [
    {
     "data": {
      "text/plain": [
       "ID                            category\n",
       "LIMIT_BAL                        int64\n",
       "SEX                           category\n",
       "EDUCATION                     category\n",
       "MARRIAGE                      category\n",
       "AGE                              int64\n",
       "PAY_0                         category\n",
       "PAY_2                         category\n",
       "PAY_3                         category\n",
       "PAY_4                         category\n",
       "PAY_5                         category\n",
       "PAY_6                         category\n",
       "BILL_AMT1                        int64\n",
       "BILL_AMT2                        int64\n",
       "BILL_AMT3                        int64\n",
       "BILL_AMT4                        int64\n",
       "BILL_AMT5                        int64\n",
       "BILL_AMT6                        int64\n",
       "PAY_AMT1                         int64\n",
       "PAY_AMT2                         int64\n",
       "PAY_AMT3                         int64\n",
       "PAY_AMT4                         int64\n",
       "PAY_AMT5                         int64\n",
       "PAY_AMT6                         int64\n",
       "default payment next month    category\n",
       "age_bins                      category\n",
       "dtype: object"
      ]
     },
     "execution_count": 4,
     "metadata": {},
     "output_type": "execute_result"
    }
   ],
   "source": [
    "rawData=rawData.astype({\"ID\":\"category\",\"SEX\":\"category\",\"EDUCATION\":\"category\",\"MARRIAGE\":\"category\",\"PAY_0\":\"category\",\"PAY_2\":\"category\",\"PAY_3\":\"category\",\"PAY_4\":\"category\",\"PAY_5\":\"category\",\"PAY_6\":\"category\",\"default payment next month\":\"category\", \"age_bins\":\"category\"})\n",
    "rawData.dtypes"
   ]
  },
  {
   "cell_type": "markdown",
   "metadata": {},
   "source": [
    "### - Carga de la Base Dummie"
   ]
  },
  {
   "cell_type": "code",
   "execution_count": 5,
   "metadata": {},
   "outputs": [
    {
     "data": {
      "text/html": [
       "<div>\n",
       "<style scoped>\n",
       "    .dataframe tbody tr th:only-of-type {\n",
       "        vertical-align: middle;\n",
       "    }\n",
       "\n",
       "    .dataframe tbody tr th {\n",
       "        vertical-align: top;\n",
       "    }\n",
       "\n",
       "    .dataframe thead th {\n",
       "        text-align: right;\n",
       "    }\n",
       "</style>\n",
       "<table border=\"1\" class=\"dataframe\">\n",
       "  <thead>\n",
       "    <tr style=\"text-align: right;\">\n",
       "      <th></th>\n",
       "      <th>ID</th>\n",
       "      <th>LIMIT_BAL</th>\n",
       "      <th>AGE</th>\n",
       "      <th>BILL_AMT1</th>\n",
       "      <th>BILL_AMT2</th>\n",
       "      <th>BILL_AMT3</th>\n",
       "      <th>BILL_AMT4</th>\n",
       "      <th>BILL_AMT5</th>\n",
       "      <th>BILL_AMT6</th>\n",
       "      <th>PAY_AMT1</th>\n",
       "      <th>...</th>\n",
       "      <th>PAY_6_0</th>\n",
       "      <th>PAY_6_2</th>\n",
       "      <th>PAY_6_3</th>\n",
       "      <th>PAY_6_4</th>\n",
       "      <th>PAY_6_5</th>\n",
       "      <th>PAY_6_6</th>\n",
       "      <th>PAY_6_7</th>\n",
       "      <th>PAY_6_8</th>\n",
       "      <th>default payment next month_default</th>\n",
       "      <th>default payment next month_not default</th>\n",
       "    </tr>\n",
       "  </thead>\n",
       "  <tbody>\n",
       "    <tr>\n",
       "      <th>0</th>\n",
       "      <td>1</td>\n",
       "      <td>3913</td>\n",
       "      <td>24</td>\n",
       "      <td>3913</td>\n",
       "      <td>3102</td>\n",
       "      <td>689</td>\n",
       "      <td>0</td>\n",
       "      <td>0</td>\n",
       "      <td>0</td>\n",
       "      <td>0</td>\n",
       "      <td>...</td>\n",
       "      <td>0</td>\n",
       "      <td>0</td>\n",
       "      <td>0</td>\n",
       "      <td>0</td>\n",
       "      <td>0</td>\n",
       "      <td>0</td>\n",
       "      <td>0</td>\n",
       "      <td>0</td>\n",
       "      <td>1</td>\n",
       "      <td>0</td>\n",
       "    </tr>\n",
       "    <tr>\n",
       "      <th>1</th>\n",
       "      <td>2</td>\n",
       "      <td>2682</td>\n",
       "      <td>26</td>\n",
       "      <td>2682</td>\n",
       "      <td>1725</td>\n",
       "      <td>2682</td>\n",
       "      <td>3272</td>\n",
       "      <td>3455</td>\n",
       "      <td>3261</td>\n",
       "      <td>0</td>\n",
       "      <td>...</td>\n",
       "      <td>0</td>\n",
       "      <td>1</td>\n",
       "      <td>0</td>\n",
       "      <td>0</td>\n",
       "      <td>0</td>\n",
       "      <td>0</td>\n",
       "      <td>0</td>\n",
       "      <td>0</td>\n",
       "      <td>1</td>\n",
       "      <td>0</td>\n",
       "    </tr>\n",
       "    <tr>\n",
       "      <th>2</th>\n",
       "      <td>3</td>\n",
       "      <td>29239</td>\n",
       "      <td>34</td>\n",
       "      <td>29239</td>\n",
       "      <td>14027</td>\n",
       "      <td>13559</td>\n",
       "      <td>14331</td>\n",
       "      <td>14948</td>\n",
       "      <td>15549</td>\n",
       "      <td>1518</td>\n",
       "      <td>...</td>\n",
       "      <td>1</td>\n",
       "      <td>0</td>\n",
       "      <td>0</td>\n",
       "      <td>0</td>\n",
       "      <td>0</td>\n",
       "      <td>0</td>\n",
       "      <td>0</td>\n",
       "      <td>0</td>\n",
       "      <td>0</td>\n",
       "      <td>1</td>\n",
       "    </tr>\n",
       "    <tr>\n",
       "      <th>3</th>\n",
       "      <td>4</td>\n",
       "      <td>46990</td>\n",
       "      <td>37</td>\n",
       "      <td>46990</td>\n",
       "      <td>48233</td>\n",
       "      <td>49291</td>\n",
       "      <td>28314</td>\n",
       "      <td>28959</td>\n",
       "      <td>29547</td>\n",
       "      <td>2000</td>\n",
       "      <td>...</td>\n",
       "      <td>1</td>\n",
       "      <td>0</td>\n",
       "      <td>0</td>\n",
       "      <td>0</td>\n",
       "      <td>0</td>\n",
       "      <td>0</td>\n",
       "      <td>0</td>\n",
       "      <td>0</td>\n",
       "      <td>0</td>\n",
       "      <td>1</td>\n",
       "    </tr>\n",
       "    <tr>\n",
       "      <th>4</th>\n",
       "      <td>5</td>\n",
       "      <td>8617</td>\n",
       "      <td>57</td>\n",
       "      <td>8617</td>\n",
       "      <td>5670</td>\n",
       "      <td>35835</td>\n",
       "      <td>20940</td>\n",
       "      <td>19146</td>\n",
       "      <td>19131</td>\n",
       "      <td>2000</td>\n",
       "      <td>...</td>\n",
       "      <td>1</td>\n",
       "      <td>0</td>\n",
       "      <td>0</td>\n",
       "      <td>0</td>\n",
       "      <td>0</td>\n",
       "      <td>0</td>\n",
       "      <td>0</td>\n",
       "      <td>0</td>\n",
       "      <td>0</td>\n",
       "      <td>1</td>\n",
       "    </tr>\n",
       "  </tbody>\n",
       "</table>\n",
       "<p>5 rows × 91 columns</p>\n",
       "</div>"
      ],
      "text/plain": [
       "   ID  LIMIT_BAL  AGE  BILL_AMT1  BILL_AMT2  BILL_AMT3  BILL_AMT4  BILL_AMT5  \\\n",
       "0   1       3913   24       3913       3102        689          0          0   \n",
       "1   2       2682   26       2682       1725       2682       3272       3455   \n",
       "2   3      29239   34      29239      14027      13559      14331      14948   \n",
       "3   4      46990   37      46990      48233      49291      28314      28959   \n",
       "4   5       8617   57       8617       5670      35835      20940      19146   \n",
       "\n",
       "   BILL_AMT6  PAY_AMT1  ...  PAY_6_0  PAY_6_2  PAY_6_3  PAY_6_4  PAY_6_5  \\\n",
       "0          0         0  ...        0        0        0        0        0   \n",
       "1       3261         0  ...        0        1        0        0        0   \n",
       "2      15549      1518  ...        1        0        0        0        0   \n",
       "3      29547      2000  ...        1        0        0        0        0   \n",
       "4      19131      2000  ...        1        0        0        0        0   \n",
       "\n",
       "   PAY_6_6  PAY_6_7  PAY_6_8  default payment next month_default  \\\n",
       "0        0        0        0                                   1   \n",
       "1        0        0        0                                   1   \n",
       "2        0        0        0                                   0   \n",
       "3        0        0        0                                   0   \n",
       "4        0        0        0                                   0   \n",
       "\n",
       "   default payment next month_not default  \n",
       "0                                       0  \n",
       "1                                       0  \n",
       "2                                       1  \n",
       "3                                       1  \n",
       "4                                       1  \n",
       "\n",
       "[5 rows x 91 columns]"
      ]
     },
     "execution_count": 5,
     "metadata": {},
     "output_type": "execute_result"
    }
   ],
   "source": [
    "#data_dummies\n",
    "rawData_d = pd.read_csv(\"C:/Data Analytics y Big Data/Modulo 2/Tareas/Tarea 3/default of credit card clients_dummies.csv\", header=0, sep=';', index_col=0)\n",
    "rawData_d.head()"
   ]
  },
  {
   "cell_type": "markdown",
   "metadata": {},
   "source": [
    "#### - Verificación de Tipos de Datos"
   ]
  },
  {
   "cell_type": "code",
   "execution_count": 6,
   "metadata": {},
   "outputs": [
    {
     "data": {
      "text/plain": [
       "ID                                        int64\n",
       "LIMIT_BAL                                 int64\n",
       "AGE                                       int64\n",
       "BILL_AMT1                                 int64\n",
       "BILL_AMT2                                 int64\n",
       "                                          ...  \n",
       "PAY_6_6                                   int64\n",
       "PAY_6_7                                   int64\n",
       "PAY_6_8                                   int64\n",
       "default payment next month_default        int64\n",
       "default payment next month_not default    int64\n",
       "Length: 91, dtype: object"
      ]
     },
     "execution_count": 6,
     "metadata": {},
     "output_type": "execute_result"
    }
   ],
   "source": [
    "rawData_d.dtypes"
   ]
  },
  {
   "cell_type": "code",
   "execution_count": 8,
   "metadata": {},
   "outputs": [
    {
     "name": "stdout",
     "output_type": "stream",
     "text": [
      "<class 'pandas.core.frame.DataFrame'>\n",
      "Int64Index: 30201 entries, 0 to 30202\n",
      "Data columns (total 91 columns):\n",
      " #   Column                                  Non-Null Count  Dtype\n",
      "---  ------                                  --------------  -----\n",
      " 0   ID                                      30201 non-null  int64\n",
      " 1   LIMIT_BAL                               30201 non-null  int64\n",
      " 2   AGE                                     30201 non-null  int64\n",
      " 3   BILL_AMT1                               30201 non-null  int64\n",
      " 4   BILL_AMT2                               30201 non-null  int64\n",
      " 5   BILL_AMT3                               30201 non-null  int64\n",
      " 6   BILL_AMT4                               30201 non-null  int64\n",
      " 7   BILL_AMT5                               30201 non-null  int64\n",
      " 8   BILL_AMT6                               30201 non-null  int64\n",
      " 9   PAY_AMT1                                30201 non-null  int64\n",
      " 10  PAY_AMT2                                30201 non-null  int64\n",
      " 11  PAY_AMT3                                30201 non-null  int64\n",
      " 12  PAY_AMT4                                30201 non-null  int64\n",
      " 13  PAY_AMT5                                30201 non-null  int64\n",
      " 14  PAY_AMT6                                30201 non-null  int64\n",
      " 15  SEX_female                              30201 non-null  int64\n",
      " 16  SEX_male                                30201 non-null  int64\n",
      " 17  EDUCATION_graduate school               30201 non-null  int64\n",
      " 18  EDUCATION_high school                   30201 non-null  int64\n",
      " 19  EDUCATION_other                         30201 non-null  int64\n",
      " 20  EDUCATION_university                    30201 non-null  int64\n",
      " 21  MARRIAGE_0                              30201 non-null  int64\n",
      " 22  MARRIAGE_1                              30201 non-null  int64\n",
      " 23  MARRIAGE_2                              30201 non-null  int64\n",
      " 24  MARRIAGE_3                              30201 non-null  int64\n",
      " 25  PAY_0_-2                                30201 non-null  int64\n",
      " 26  PAY_0_-1                                30201 non-null  int64\n",
      " 27  PAY_0_0                                 30201 non-null  int64\n",
      " 28  PAY_0_1                                 30201 non-null  int64\n",
      " 29  PAY_0_2                                 30201 non-null  int64\n",
      " 30  PAY_0_3                                 30201 non-null  int64\n",
      " 31  PAY_0_4                                 30201 non-null  int64\n",
      " 32  PAY_0_5                                 30201 non-null  int64\n",
      " 33  PAY_0_6                                 30201 non-null  int64\n",
      " 34  PAY_0_7                                 30201 non-null  int64\n",
      " 35  PAY_0_8                                 30201 non-null  int64\n",
      " 36  PAY_2_-2                                30201 non-null  int64\n",
      " 37  PAY_2_-1                                30201 non-null  int64\n",
      " 38  PAY_2_0                                 30201 non-null  int64\n",
      " 39  PAY_2_1                                 30201 non-null  int64\n",
      " 40  PAY_2_2                                 30201 non-null  int64\n",
      " 41  PAY_2_3                                 30201 non-null  int64\n",
      " 42  PAY_2_4                                 30201 non-null  int64\n",
      " 43  PAY_2_5                                 30201 non-null  int64\n",
      " 44  PAY_2_6                                 30201 non-null  int64\n",
      " 45  PAY_2_7                                 30201 non-null  int64\n",
      " 46  PAY_2_8                                 30201 non-null  int64\n",
      " 47  PAY_3_-2                                30201 non-null  int64\n",
      " 48  PAY_3_-1                                30201 non-null  int64\n",
      " 49  PAY_3_0                                 30201 non-null  int64\n",
      " 50  PAY_3_1                                 30201 non-null  int64\n",
      " 51  PAY_3_2                                 30201 non-null  int64\n",
      " 52  PAY_3_3                                 30201 non-null  int64\n",
      " 53  PAY_3_4                                 30201 non-null  int64\n",
      " 54  PAY_3_5                                 30201 non-null  int64\n",
      " 55  PAY_3_6                                 30201 non-null  int64\n",
      " 56  PAY_3_7                                 30201 non-null  int64\n",
      " 57  PAY_3_8                                 30201 non-null  int64\n",
      " 58  PAY_4_-2                                30201 non-null  int64\n",
      " 59  PAY_4_-1                                30201 non-null  int64\n",
      " 60  PAY_4_0                                 30201 non-null  int64\n",
      " 61  PAY_4_1                                 30201 non-null  int64\n",
      " 62  PAY_4_2                                 30201 non-null  int64\n",
      " 63  PAY_4_3                                 30201 non-null  int64\n",
      " 64  PAY_4_4                                 30201 non-null  int64\n",
      " 65  PAY_4_5                                 30201 non-null  int64\n",
      " 66  PAY_4_6                                 30201 non-null  int64\n",
      " 67  PAY_4_7                                 30201 non-null  int64\n",
      " 68  PAY_4_8                                 30201 non-null  int64\n",
      " 69  PAY_5_-2                                30201 non-null  int64\n",
      " 70  PAY_5_-1                                30201 non-null  int64\n",
      " 71  PAY_5_0                                 30201 non-null  int64\n",
      " 72  PAY_5_2                                 30201 non-null  int64\n",
      " 73  PAY_5_3                                 30201 non-null  int64\n",
      " 74  PAY_5_4                                 30201 non-null  int64\n",
      " 75  PAY_5_5                                 30201 non-null  int64\n",
      " 76  PAY_5_6                                 30201 non-null  int64\n",
      " 77  PAY_5_7                                 30201 non-null  int64\n",
      " 78  PAY_5_8                                 30201 non-null  int64\n",
      " 79  PAY_6_-2                                30201 non-null  int64\n",
      " 80  PAY_6_-1                                30201 non-null  int64\n",
      " 81  PAY_6_0                                 30201 non-null  int64\n",
      " 82  PAY_6_2                                 30201 non-null  int64\n",
      " 83  PAY_6_3                                 30201 non-null  int64\n",
      " 84  PAY_6_4                                 30201 non-null  int64\n",
      " 85  PAY_6_5                                 30201 non-null  int64\n",
      " 86  PAY_6_6                                 30201 non-null  int64\n",
      " 87  PAY_6_7                                 30201 non-null  int64\n",
      " 88  PAY_6_8                                 30201 non-null  int64\n",
      " 89  default payment next month_default      30201 non-null  int64\n",
      " 90  default payment next month_not default  30201 non-null  int64\n",
      "dtypes: int64(91)\n",
      "memory usage: 21.2 MB\n"
     ]
    }
   ],
   "source": [
    "rawData_d.info()"
   ]
  },
  {
   "cell_type": "code",
   "execution_count": 9,
   "metadata": {},
   "outputs": [
    {
     "name": "stdout",
     "output_type": "stream",
     "text": [
      "Summary of feature sample\n"
     ]
    },
    {
     "data": {
      "text/html": [
       "<div>\n",
       "<style scoped>\n",
       "    .dataframe tbody tr th:only-of-type {\n",
       "        vertical-align: middle;\n",
       "    }\n",
       "\n",
       "    .dataframe tbody tr th {\n",
       "        vertical-align: top;\n",
       "    }\n",
       "\n",
       "    .dataframe thead th {\n",
       "        text-align: right;\n",
       "    }\n",
       "</style>\n",
       "<table border=\"1\" class=\"dataframe\">\n",
       "  <thead>\n",
       "    <tr style=\"text-align: right;\">\n",
       "      <th></th>\n",
       "      <th>LIMIT_BAL</th>\n",
       "      <th>AGE</th>\n",
       "      <th>BILL_AMT1</th>\n",
       "      <th>BILL_AMT2</th>\n",
       "      <th>BILL_AMT3</th>\n",
       "      <th>BILL_AMT4</th>\n",
       "      <th>BILL_AMT5</th>\n",
       "      <th>BILL_AMT6</th>\n",
       "      <th>PAY_AMT1</th>\n",
       "      <th>PAY_AMT2</th>\n",
       "      <th>...</th>\n",
       "      <th>PAY_5_7</th>\n",
       "      <th>PAY_6_-2</th>\n",
       "      <th>PAY_6_-1</th>\n",
       "      <th>PAY_6_0</th>\n",
       "      <th>PAY_6_2</th>\n",
       "      <th>PAY_6_3</th>\n",
       "      <th>PAY_6_4</th>\n",
       "      <th>PAY_6_5</th>\n",
       "      <th>PAY_6_6</th>\n",
       "      <th>PAY_6_7</th>\n",
       "    </tr>\n",
       "  </thead>\n",
       "  <tbody>\n",
       "    <tr>\n",
       "      <th>0</th>\n",
       "      <td>3913</td>\n",
       "      <td>24</td>\n",
       "      <td>3913</td>\n",
       "      <td>3102</td>\n",
       "      <td>689</td>\n",
       "      <td>0</td>\n",
       "      <td>0</td>\n",
       "      <td>0</td>\n",
       "      <td>0</td>\n",
       "      <td>689</td>\n",
       "      <td>...</td>\n",
       "      <td>0</td>\n",
       "      <td>1</td>\n",
       "      <td>0</td>\n",
       "      <td>0</td>\n",
       "      <td>0</td>\n",
       "      <td>0</td>\n",
       "      <td>0</td>\n",
       "      <td>0</td>\n",
       "      <td>0</td>\n",
       "      <td>0</td>\n",
       "    </tr>\n",
       "    <tr>\n",
       "      <th>1</th>\n",
       "      <td>2682</td>\n",
       "      <td>26</td>\n",
       "      <td>2682</td>\n",
       "      <td>1725</td>\n",
       "      <td>2682</td>\n",
       "      <td>3272</td>\n",
       "      <td>3455</td>\n",
       "      <td>3261</td>\n",
       "      <td>0</td>\n",
       "      <td>1000</td>\n",
       "      <td>...</td>\n",
       "      <td>0</td>\n",
       "      <td>0</td>\n",
       "      <td>0</td>\n",
       "      <td>0</td>\n",
       "      <td>1</td>\n",
       "      <td>0</td>\n",
       "      <td>0</td>\n",
       "      <td>0</td>\n",
       "      <td>0</td>\n",
       "      <td>0</td>\n",
       "    </tr>\n",
       "    <tr>\n",
       "      <th>2</th>\n",
       "      <td>29239</td>\n",
       "      <td>34</td>\n",
       "      <td>29239</td>\n",
       "      <td>14027</td>\n",
       "      <td>13559</td>\n",
       "      <td>14331</td>\n",
       "      <td>14948</td>\n",
       "      <td>15549</td>\n",
       "      <td>1518</td>\n",
       "      <td>1500</td>\n",
       "      <td>...</td>\n",
       "      <td>0</td>\n",
       "      <td>0</td>\n",
       "      <td>0</td>\n",
       "      <td>1</td>\n",
       "      <td>0</td>\n",
       "      <td>0</td>\n",
       "      <td>0</td>\n",
       "      <td>0</td>\n",
       "      <td>0</td>\n",
       "      <td>0</td>\n",
       "    </tr>\n",
       "    <tr>\n",
       "      <th>3</th>\n",
       "      <td>46990</td>\n",
       "      <td>37</td>\n",
       "      <td>46990</td>\n",
       "      <td>48233</td>\n",
       "      <td>49291</td>\n",
       "      <td>28314</td>\n",
       "      <td>28959</td>\n",
       "      <td>29547</td>\n",
       "      <td>2000</td>\n",
       "      <td>2019</td>\n",
       "      <td>...</td>\n",
       "      <td>0</td>\n",
       "      <td>0</td>\n",
       "      <td>0</td>\n",
       "      <td>1</td>\n",
       "      <td>0</td>\n",
       "      <td>0</td>\n",
       "      <td>0</td>\n",
       "      <td>0</td>\n",
       "      <td>0</td>\n",
       "      <td>0</td>\n",
       "    </tr>\n",
       "    <tr>\n",
       "      <th>4</th>\n",
       "      <td>8617</td>\n",
       "      <td>57</td>\n",
       "      <td>8617</td>\n",
       "      <td>5670</td>\n",
       "      <td>35835</td>\n",
       "      <td>20940</td>\n",
       "      <td>19146</td>\n",
       "      <td>19131</td>\n",
       "      <td>2000</td>\n",
       "      <td>36681</td>\n",
       "      <td>...</td>\n",
       "      <td>0</td>\n",
       "      <td>0</td>\n",
       "      <td>0</td>\n",
       "      <td>1</td>\n",
       "      <td>0</td>\n",
       "      <td>0</td>\n",
       "      <td>0</td>\n",
       "      <td>0</td>\n",
       "      <td>0</td>\n",
       "      <td>0</td>\n",
       "    </tr>\n",
       "  </tbody>\n",
       "</table>\n",
       "<p>5 rows × 79 columns</p>\n",
       "</div>"
      ],
      "text/plain": [
       "   LIMIT_BAL  AGE  BILL_AMT1  BILL_AMT2  BILL_AMT3  BILL_AMT4  BILL_AMT5  \\\n",
       "0       3913   24       3913       3102        689          0          0   \n",
       "1       2682   26       2682       1725       2682       3272       3455   \n",
       "2      29239   34      29239      14027      13559      14331      14948   \n",
       "3      46990   37      46990      48233      49291      28314      28959   \n",
       "4       8617   57       8617       5670      35835      20940      19146   \n",
       "\n",
       "   BILL_AMT6  PAY_AMT1  PAY_AMT2  ...  PAY_5_7  PAY_6_-2  PAY_6_-1  PAY_6_0  \\\n",
       "0          0         0       689  ...        0         1         0        0   \n",
       "1       3261         0      1000  ...        0         0         0        0   \n",
       "2      15549      1518      1500  ...        0         0         0        1   \n",
       "3      29547      2000      2019  ...        0         0         0        1   \n",
       "4      19131      2000     36681  ...        0         0         0        1   \n",
       "\n",
       "   PAY_6_2  PAY_6_3  PAY_6_4  PAY_6_5  PAY_6_6  PAY_6_7  \n",
       "0        0        0        0        0        0        0  \n",
       "1        1        0        0        0        0        0  \n",
       "2        0        0        0        0        0        0  \n",
       "3        0        0        0        0        0        0  \n",
       "4        0        0        0        0        0        0  \n",
       "\n",
       "[5 rows x 79 columns]"
      ]
     },
     "execution_count": 9,
     "metadata": {},
     "output_type": "execute_result"
    }
   ],
   "source": [
    "#features\n",
    "X = rawData_d.iloc[:,[1,2,3,4,5,6,7,8,9,10,11,12,13,14,15,17,18,20,22,23,24,25,26,27,28,29,30,31,32,33,34,36,37,38,39,40,41,42,43,44,45,47,48,49,50,51,52,53,54,55,56,58,59,60,61,62,63,64,65,66,67,69,70,71,72,73,74,75,76,77,79,80,81,82,83,84,85,86,87\n",
    "]]\n",
    "print('Summary of feature sample')\n",
    "X.head()"
   ]
  },
  {
   "cell_type": "code",
   "execution_count": 10,
   "metadata": {},
   "outputs": [
    {
     "data": {
      "text/plain": [
       "0    1\n",
       "1    1\n",
       "2    0\n",
       "3    0\n",
       "4    0\n",
       "Name: default payment next month_default, dtype: int64"
      ]
     },
     "execution_count": 10,
     "metadata": {},
     "output_type": "execute_result"
    }
   ],
   "source": [
    "#dependent variable\n",
    "y = rawData_d['default payment next month_default']\n",
    "y.head()"
   ]
  },
  {
   "cell_type": "code",
   "execution_count": 12,
   "metadata": {},
   "outputs": [
    {
     "name": "stdout",
     "output_type": "stream",
     "text": [
      "0        1\n",
      "1        1\n",
      "2        0\n",
      "3        0\n",
      "4        0\n",
      "        ..\n",
      "30198    0\n",
      "30199    0\n",
      "30200    1\n",
      "30201    1\n",
      "30202    1\n",
      "Name: default payment next month_default, Length: 30201, dtype: int64\n"
     ]
    }
   ],
   "source": [
    "#dependent variable\n",
    "print(y)"
   ]
  },
  {
   "cell_type": "code",
   "execution_count": 11,
   "metadata": {},
   "outputs": [],
   "source": [
    "model = LinearRegression(n_jobs=10)"
   ]
  },
  {
   "cell_type": "code",
   "execution_count": 13,
   "metadata": {},
   "outputs": [
    {
     "name": "stdout",
     "output_type": "stream",
     "text": [
      "[0.16365581 0.21215516 0.21157561]\n"
     ]
    }
   ],
   "source": [
    "print(cross_val_score(model, X, y, cv=3)) "
   ]
  },
  {
   "cell_type": "markdown",
   "metadata": {},
   "source": [
    "### - Modeling Format"
   ]
  },
  {
   "cell_type": "code",
   "execution_count": 14,
   "metadata": {},
   "outputs": [],
   "source": [
    "algosClass = []\n",
    "algosClass.append(('Random Forest Regressor',RandomForestRegressor()))\n",
    "algosClass.append(('Linear Regression',LinearRegression()))\n",
    "algosClass.append(('Support Vector Regression',SVR()))"
   ]
  },
  {
   "cell_type": "code",
   "execution_count": 15,
   "metadata": {},
   "outputs": [],
   "source": [
    "#regression\n",
    "results = []\n",
    "names = []\n",
    "for name, model in algosClass:\n",
    "    result = cross_val_score(model, X,y, cv=3, scoring='r2')\n",
    "    names.append(name)\n",
    "    results.append(result)"
   ]
  },
  {
   "cell_type": "code",
   "execution_count": 16,
   "metadata": {
    "scrolled": true
   },
   "outputs": [
    {
     "name": "stdout",
     "output_type": "stream",
     "text": [
      "Random Forest Regressor 0.16637817402801483\n",
      "Linear Regression 0.1957955300317967\n",
      "Support Vector Regression -0.08553238422448883\n"
     ]
    }
   ],
   "source": [
    "for i in range(len(names)):\n",
    "    print(names[i],results[i].mean())"
   ]
  },
  {
   "cell_type": "markdown",
   "metadata": {},
   "source": [
    "    - Si nos vasamos en el coeficiente de determinación o R2, de acuerdo con los datos que tenemos actualmente el modelo de Regresión Lineal es el que nos presenta mayor ajuste para la variable que queremos predecir por tener un R2 más cercado a 1."
   ]
  },
  {
   "cell_type": "code",
   "execution_count": 54,
   "metadata": {},
   "outputs": [],
   "source": [
    "algo = LinearRegression()\n",
    "algo_r = RandomForestRegressor()\n",
    "algo_v = SVR()"
   ]
  },
  {
   "cell_type": "code",
   "execution_count": 46,
   "metadata": {},
   "outputs": [],
   "source": [
    "#Train/Test Split\n",
    "X_train, X_test, y_train, y_test = train_test_split(X, y, test_size = .30, random_state = 123)"
   ]
  },
  {
   "cell_type": "code",
   "execution_count": 55,
   "metadata": {},
   "outputs": [],
   "source": [
    "model = algo.fit(X_train,y_train)\n",
    "model_r = algo_r.fit(X_train,y_train)\n",
    "model_v = algo_v.fit(X_train,y_train)"
   ]
  },
  {
   "cell_type": "code",
   "execution_count": 56,
   "metadata": {},
   "outputs": [],
   "source": [
    "predictions = model.predict(X_test)\n",
    "predictions_r = model_r.predict(X_test)\n",
    "predictions_v = model_v.predict(X_test)"
   ]
  },
  {
   "cell_type": "code",
   "execution_count": 57,
   "metadata": {},
   "outputs": [],
   "source": [
    "rmse = sqrt(mean_squared_error(y_test, predictions))\n",
    "rmse_r = sqrt(mean_squared_error(y_test, predictions_r))\n",
    "rmse_v = sqrt(mean_squared_error(y_test, predictions_v))"
   ]
  },
  {
   "cell_type": "code",
   "execution_count": 58,
   "metadata": {},
   "outputs": [],
   "source": [
    "predRsquared = r2_score(y_test,predictions)\n",
    "predRsquared_r = r2_score(y_test,predictions_r)\n",
    "predRsquared_v = r2_score(y_test,predictions_v)"
   ]
  },
  {
   "cell_type": "code",
   "execution_count": 64,
   "metadata": {},
   "outputs": [
    {
     "name": "stdout",
     "output_type": "stream",
     "text": [
      "- LinearRegression\n",
      "R Squared: 0.188\n",
      "RMSE: 0.375\n",
      "\n",
      "- RandomForestRegressor\n",
      "R Squared_r: 0.164\n",
      "RMSE_r: 0.380\n",
      "\n",
      "- SVR\n",
      "R Squared_v: -0.087\n",
      "RMSE_v: 0.433\n"
     ]
    }
   ],
   "source": [
    "#Make Predictions_Linear\n",
    "predictions = model.predict(X_test)\n",
    "predRsquared = r2_score(y_test,predictions)\n",
    "rmse = sqrt(mean_squared_error(y_test, predictions))\n",
    "#print('R Squared: %.3f' % predRsquared)\n",
    "#print('RMSE: %.3f' % rmse)\n",
    "\n",
    "#Make Predictions_Random\n",
    "predictions_r = model_r.predict(X_test)\n",
    "predRsquared_r = r2_score(y_test,predictions_r)\n",
    "rmse_r = sqrt(mean_squared_error(y_test, predictions_r))\n",
    "#print('R Squared_r: %.3f' % predRsquared_r)\n",
    "#print('RMSE_r: %.3f' % rmse_r)\n",
    "\n",
    "\n",
    "#Make Predictions_SVR\n",
    "predictions_v = model_v.predict(X_test)\n",
    "predRsquared_v = r2_score(y_test,predictions_v)\n",
    "rmse_v = sqrt(mean_squared_error(y_test, predictions_v))\n",
    "#print('R Squared_v: %.3f' % predRsquared_v)\n",
    "#print('RMSE_v: %.3f' % rmse_v)\n",
    "\n",
    "print('- LinearRegression')\n",
    "print('R Squared: %.3f' % predRsquared)\n",
    "print('RMSE: %.3f' % rmse)\n",
    "print('')\n",
    "print('- RandomForestRegressor')\n",
    "print('R Squared_r: %.3f' % predRsquared_r)\n",
    "print('RMSE_r: %.3f' % rmse_r)\n",
    "print('')\n",
    "print('- SVR')\n",
    "print('R Squared_v: %.3f' % predRsquared_v)\n",
    "print('RMSE_v: %.3f' % rmse_v)"
   ]
  },
  {
   "cell_type": "markdown",
   "metadata": {},
   "source": [
    " - De acuerdo con la interpretación de los resultados de R2 y RMSE para los 3 modelos realizados,  vemos que R2 para la Regresión Lineal sigue siendo el más cercado a uno de los tres modelos y su RMSE es el más bajo de los tres por lo que podemos decir que es el que tiene mejor ajuste. Hay que tener presente que estas consideraciones se establecieron de acuerdo con los resultados obtenidos al ejecutar los 3 modelos, no en base a si es o no un buen resultado para nuestro requerimiento."
   ]
  },
  {
   "cell_type": "markdown",
   "metadata": {},
   "source": [
    "## - Modelos de Clasificación (Base sin Dummies)"
   ]
  },
  {
   "cell_type": "markdown",
   "metadata": {},
   "source": [
    "#### - Modelos a Utilizar\n",
    "\n",
    "    - DecisionTreeClassifier\n",
    "    - RandomForestClassifier\n",
    "    - GradientBoostingClassifier\n",
    "    - Naive_bayes GaussianNB\n",
    "    - SVC"
   ]
  },
  {
   "cell_type": "markdown",
   "metadata": {},
   "source": [
    "#### - Verificación de NAs"
   ]
  },
  {
   "cell_type": "code",
   "execution_count": 108,
   "metadata": {},
   "outputs": [
    {
     "name": "stdout",
     "output_type": "stream",
     "text": [
      "Total NaN en cada columna en el DataFrame : \n",
      "\n",
      " ID                             0\n",
      "LIMIT_BAL                      0\n",
      "SEX                            0\n",
      "EDUCATION                      0\n",
      "MARRIAGE                       0\n",
      "AGE                            0\n",
      "PAY_0                          0\n",
      "PAY_2                          0\n",
      "PAY_3                          0\n",
      "PAY_4                          0\n",
      "PAY_5                          0\n",
      "PAY_6                          0\n",
      "BILL_AMT1                      0\n",
      "BILL_AMT2                      0\n",
      "BILL_AMT3                      0\n",
      "BILL_AMT4                      0\n",
      "BILL_AMT5                      0\n",
      "BILL_AMT6                      0\n",
      "PAY_AMT1                       0\n",
      "PAY_AMT2                       0\n",
      "PAY_AMT3                       0\n",
      "PAY_AMT4                       0\n",
      "PAY_AMT5                       0\n",
      "PAY_AMT6                       0\n",
      "default payment next month     0\n",
      "age_bins                      67\n",
      "dtype: int64\n"
     ]
    }
   ],
   "source": [
    "print(\"Total NaN en cada columna en el DataFrame : \\n\\n\",\n",
    "      rawData.isnull().sum())"
   ]
  },
  {
   "cell_type": "markdown",
   "metadata": {},
   "source": [
    "#### - Eliminación de NAs"
   ]
  },
  {
   "cell_type": "code",
   "execution_count": 109,
   "metadata": {},
   "outputs": [
    {
     "name": "stdout",
     "output_type": "stream",
     "text": [
      "Total NaN en cada columna en el DataFrame : \n",
      "\n",
      " ID                            0\n",
      "LIMIT_BAL                     0\n",
      "SEX                           0\n",
      "EDUCATION                     0\n",
      "MARRIAGE                      0\n",
      "AGE                           0\n",
      "PAY_0                         0\n",
      "PAY_2                         0\n",
      "PAY_3                         0\n",
      "PAY_4                         0\n",
      "PAY_5                         0\n",
      "PAY_6                         0\n",
      "BILL_AMT1                     0\n",
      "BILL_AMT2                     0\n",
      "BILL_AMT3                     0\n",
      "BILL_AMT4                     0\n",
      "BILL_AMT5                     0\n",
      "BILL_AMT6                     0\n",
      "PAY_AMT1                      0\n",
      "PAY_AMT2                      0\n",
      "PAY_AMT3                      0\n",
      "PAY_AMT4                      0\n",
      "PAY_AMT5                      0\n",
      "PAY_AMT6                      0\n",
      "default payment next month    0\n",
      "age_bins                      0\n",
      "dtype: int64\n"
     ]
    }
   ],
   "source": [
    "rawData = rawData.dropna()\n",
    "print(\"Total NaN en cada columna en el DataFrame : \\n\\n\",\n",
    "      rawData.isnull().sum())"
   ]
  },
  {
   "cell_type": "code",
   "execution_count": 117,
   "metadata": {},
   "outputs": [
    {
     "name": "stdout",
     "output_type": "stream",
     "text": [
      "<class 'pandas.core.frame.DataFrame'>\n",
      "Int64Index: 30134 entries, 0 to 30202\n",
      "Data columns (total 26 columns):\n",
      " #   Column                      Non-Null Count  Dtype   \n",
      "---  ------                      --------------  -----   \n",
      " 0   ID                          30134 non-null  category\n",
      " 1   LIMIT_BAL                   30134 non-null  int64   \n",
      " 2   SEX                         30134 non-null  category\n",
      " 3   EDUCATION                   30134 non-null  category\n",
      " 4   MARRIAGE                    30134 non-null  category\n",
      " 5   AGE                         30134 non-null  int64   \n",
      " 6   PAY_0                       30134 non-null  category\n",
      " 7   PAY_2                       30134 non-null  category\n",
      " 8   PAY_3                       30134 non-null  category\n",
      " 9   PAY_4                       30134 non-null  category\n",
      " 10  PAY_5                       30134 non-null  category\n",
      " 11  PAY_6                       30134 non-null  category\n",
      " 12  BILL_AMT1                   30134 non-null  int64   \n",
      " 13  BILL_AMT2                   30134 non-null  int64   \n",
      " 14  BILL_AMT3                   30134 non-null  int64   \n",
      " 15  BILL_AMT4                   30134 non-null  int64   \n",
      " 16  BILL_AMT5                   30134 non-null  int64   \n",
      " 17  BILL_AMT6                   30134 non-null  int64   \n",
      " 18  PAY_AMT1                    30134 non-null  int64   \n",
      " 19  PAY_AMT2                    30134 non-null  int64   \n",
      " 20  PAY_AMT3                    30134 non-null  int64   \n",
      " 21  PAY_AMT4                    30134 non-null  int64   \n",
      " 22  PAY_AMT5                    30134 non-null  int64   \n",
      " 23  PAY_AMT6                    30134 non-null  int64   \n",
      " 24  default payment next month  30134 non-null  category\n",
      " 25  age_bins                    30134 non-null  category\n",
      "dtypes: category(12), int64(14)\n",
      "memory usage: 5.3 MB\n"
     ]
    }
   ],
   "source": [
    "rawData.info()"
   ]
  },
  {
   "cell_type": "markdown",
   "metadata": {},
   "source": [
    "#### - Cambio de Tipos de Variables"
   ]
  },
  {
   "cell_type": "code",
   "execution_count": 133,
   "metadata": {},
   "outputs": [
    {
     "name": "stdout",
     "output_type": "stream",
     "text": [
      "<class 'pandas.core.frame.DataFrame'>\n",
      "Int64Index: 30134 entries, 0 to 30202\n",
      "Data columns (total 26 columns):\n",
      " #   Column                      Non-Null Count  Dtype   \n",
      "---  ------                      --------------  -----   \n",
      " 0   ID                          30134 non-null  category\n",
      " 1   LIMIT_BAL                   30134 non-null  int64   \n",
      " 2   SEX                         30134 non-null  object  \n",
      " 3   EDUCATION                   30134 non-null  object  \n",
      " 4   MARRIAGE                    30134 non-null  object  \n",
      " 5   AGE                         30134 non-null  int64   \n",
      " 6   PAY_0                       30134 non-null  object  \n",
      " 7   PAY_2                       30134 non-null  object  \n",
      " 8   PAY_3                       30134 non-null  object  \n",
      " 9   PAY_4                       30134 non-null  object  \n",
      " 10  PAY_5                       30134 non-null  object  \n",
      " 11  PAY_6                       30134 non-null  object  \n",
      " 12  BILL_AMT1                   30134 non-null  int64   \n",
      " 13  BILL_AMT2                   30134 non-null  int64   \n",
      " 14  BILL_AMT3                   30134 non-null  int64   \n",
      " 15  BILL_AMT4                   30134 non-null  int64   \n",
      " 16  BILL_AMT5                   30134 non-null  int64   \n",
      " 17  BILL_AMT6                   30134 non-null  int64   \n",
      " 18  PAY_AMT1                    30134 non-null  int64   \n",
      " 19  PAY_AMT2                    30134 non-null  int64   \n",
      " 20  PAY_AMT3                    30134 non-null  int64   \n",
      " 21  PAY_AMT4                    30134 non-null  int64   \n",
      " 22  PAY_AMT5                    30134 non-null  int64   \n",
      " 23  PAY_AMT6                    30134 non-null  int64   \n",
      " 24  default payment next month  30134 non-null  object  \n",
      " 25  age_bins                    30134 non-null  object  \n",
      "dtypes: category(1), int64(14), object(11)\n",
      "memory usage: 7.5+ MB\n"
     ]
    }
   ],
   "source": [
    "rawData[['SEX']] = rawData[['SEX']].astype(str)\n",
    "rawData[['EDUCATION']] = rawData[['EDUCATION']].astype(str)\n",
    "rawData[['MARRIAGE']] = rawData[['MARRIAGE']].astype(str)\n",
    "rawData[['default payment next month']] = rawData[['default payment next month']].astype(str)\n",
    "rawData[['age_bins']] = rawData[['age_bins']].astype(str)\n",
    "\n",
    "rawData[['PAY_0']] = rawData[['PAY_0']].astype(str)\n",
    "rawData[['PAY_2']] = rawData[['PAY_2']].astype(str)\n",
    "rawData[['PAY_3']] = rawData[['PAY_3']].astype(str)\n",
    "rawData[['PAY_4']] = rawData[['PAY_4']].astype(str)\n",
    "rawData[['PAY_5']] = rawData[['PAY_5']].astype(str)\n",
    "rawData[['PAY_6']] = rawData[['PAY_6']].astype(str)\n",
    "\n",
    "rawData.info()"
   ]
  },
  {
   "cell_type": "code",
   "execution_count": 148,
   "metadata": {},
   "outputs": [
    {
     "data": {
      "text/html": [
       "<div>\n",
       "<style scoped>\n",
       "    .dataframe tbody tr th:only-of-type {\n",
       "        vertical-align: middle;\n",
       "    }\n",
       "\n",
       "    .dataframe tbody tr th {\n",
       "        vertical-align: top;\n",
       "    }\n",
       "\n",
       "    .dataframe thead th {\n",
       "        text-align: right;\n",
       "    }\n",
       "</style>\n",
       "<table border=\"1\" class=\"dataframe\">\n",
       "  <thead>\n",
       "    <tr style=\"text-align: right;\">\n",
       "      <th></th>\n",
       "      <th>ID</th>\n",
       "      <th>LIMIT_BAL</th>\n",
       "      <th>SEX</th>\n",
       "      <th>EDUCATION</th>\n",
       "      <th>MARRIAGE</th>\n",
       "      <th>AGE</th>\n",
       "      <th>PAY_0</th>\n",
       "      <th>PAY_2</th>\n",
       "      <th>PAY_3</th>\n",
       "      <th>PAY_4</th>\n",
       "      <th>...</th>\n",
       "      <th>BILL_AMT5</th>\n",
       "      <th>BILL_AMT6</th>\n",
       "      <th>PAY_AMT1</th>\n",
       "      <th>PAY_AMT2</th>\n",
       "      <th>PAY_AMT3</th>\n",
       "      <th>PAY_AMT4</th>\n",
       "      <th>PAY_AMT5</th>\n",
       "      <th>PAY_AMT6</th>\n",
       "      <th>default payment next month</th>\n",
       "      <th>age_bins</th>\n",
       "    </tr>\n",
       "  </thead>\n",
       "  <tbody>\n",
       "    <tr>\n",
       "      <th>0</th>\n",
       "      <td>1</td>\n",
       "      <td>3913</td>\n",
       "      <td>2</td>\n",
       "      <td>2</td>\n",
       "      <td>1</td>\n",
       "      <td>24</td>\n",
       "      <td>2</td>\n",
       "      <td>2</td>\n",
       "      <td>-1</td>\n",
       "      <td>-1</td>\n",
       "      <td>...</td>\n",
       "      <td>0</td>\n",
       "      <td>0</td>\n",
       "      <td>0</td>\n",
       "      <td>689</td>\n",
       "      <td>0</td>\n",
       "      <td>0</td>\n",
       "      <td>0</td>\n",
       "      <td>0</td>\n",
       "      <td>1</td>\n",
       "      <td>1</td>\n",
       "    </tr>\n",
       "    <tr>\n",
       "      <th>1</th>\n",
       "      <td>2</td>\n",
       "      <td>2682</td>\n",
       "      <td>2</td>\n",
       "      <td>2</td>\n",
       "      <td>2</td>\n",
       "      <td>26</td>\n",
       "      <td>-1</td>\n",
       "      <td>2</td>\n",
       "      <td>0</td>\n",
       "      <td>0</td>\n",
       "      <td>...</td>\n",
       "      <td>3455</td>\n",
       "      <td>3261</td>\n",
       "      <td>0</td>\n",
       "      <td>1000</td>\n",
       "      <td>1000</td>\n",
       "      <td>1000</td>\n",
       "      <td>0</td>\n",
       "      <td>2000</td>\n",
       "      <td>1</td>\n",
       "      <td>1</td>\n",
       "    </tr>\n",
       "    <tr>\n",
       "      <th>2</th>\n",
       "      <td>3</td>\n",
       "      <td>29239</td>\n",
       "      <td>2</td>\n",
       "      <td>2</td>\n",
       "      <td>2</td>\n",
       "      <td>34</td>\n",
       "      <td>0</td>\n",
       "      <td>0</td>\n",
       "      <td>0</td>\n",
       "      <td>0</td>\n",
       "      <td>...</td>\n",
       "      <td>14948</td>\n",
       "      <td>15549</td>\n",
       "      <td>1518</td>\n",
       "      <td>1500</td>\n",
       "      <td>1000</td>\n",
       "      <td>1000</td>\n",
       "      <td>1000</td>\n",
       "      <td>5000</td>\n",
       "      <td>0</td>\n",
       "      <td>3</td>\n",
       "    </tr>\n",
       "    <tr>\n",
       "      <th>3</th>\n",
       "      <td>4</td>\n",
       "      <td>46990</td>\n",
       "      <td>2</td>\n",
       "      <td>2</td>\n",
       "      <td>1</td>\n",
       "      <td>37</td>\n",
       "      <td>0</td>\n",
       "      <td>0</td>\n",
       "      <td>0</td>\n",
       "      <td>0</td>\n",
       "      <td>...</td>\n",
       "      <td>28959</td>\n",
       "      <td>29547</td>\n",
       "      <td>2000</td>\n",
       "      <td>2019</td>\n",
       "      <td>1200</td>\n",
       "      <td>1100</td>\n",
       "      <td>1069</td>\n",
       "      <td>1000</td>\n",
       "      <td>0</td>\n",
       "      <td>3</td>\n",
       "    </tr>\n",
       "    <tr>\n",
       "      <th>4</th>\n",
       "      <td>5</td>\n",
       "      <td>8617</td>\n",
       "      <td>1</td>\n",
       "      <td>2</td>\n",
       "      <td>1</td>\n",
       "      <td>57</td>\n",
       "      <td>-1</td>\n",
       "      <td>0</td>\n",
       "      <td>-1</td>\n",
       "      <td>0</td>\n",
       "      <td>...</td>\n",
       "      <td>19146</td>\n",
       "      <td>19131</td>\n",
       "      <td>2000</td>\n",
       "      <td>36681</td>\n",
       "      <td>10000</td>\n",
       "      <td>9000</td>\n",
       "      <td>689</td>\n",
       "      <td>679</td>\n",
       "      <td>0</td>\n",
       "      <td>5</td>\n",
       "    </tr>\n",
       "  </tbody>\n",
       "</table>\n",
       "<p>5 rows × 26 columns</p>\n",
       "</div>"
      ],
      "text/plain": [
       "  ID  LIMIT_BAL SEX EDUCATION MARRIAGE  AGE PAY_0 PAY_2 PAY_3 PAY_4  ...  \\\n",
       "0  1       3913   2         2        1   24     2     2    -1    -1  ...   \n",
       "1  2       2682   2         2        2   26    -1     2     0     0  ...   \n",
       "2  3      29239   2         2        2   34     0     0     0     0  ...   \n",
       "3  4      46990   2         2        1   37     0     0     0     0  ...   \n",
       "4  5       8617   1         2        1   57    -1     0    -1     0  ...   \n",
       "\n",
       "  BILL_AMT5 BILL_AMT6  PAY_AMT1  PAY_AMT2  PAY_AMT3  PAY_AMT4  PAY_AMT5  \\\n",
       "0         0         0         0       689         0         0         0   \n",
       "1      3455      3261         0      1000      1000      1000         0   \n",
       "2     14948     15549      1518      1500      1000      1000      1000   \n",
       "3     28959     29547      2000      2019      1200      1100      1069   \n",
       "4     19146     19131      2000     36681     10000      9000       689   \n",
       "\n",
       "   PAY_AMT6  default payment next month  age_bins  \n",
       "0         0                           1         1  \n",
       "1      2000                           1         1  \n",
       "2      5000                           0         3  \n",
       "3      1000                           0         3  \n",
       "4       679                           0         5  \n",
       "\n",
       "[5 rows x 26 columns]"
      ]
     },
     "execution_count": 148,
     "metadata": {},
     "output_type": "execute_result"
    }
   ],
   "source": [
    "rawData.loc[rawData['SEX'] == 'male', 'SEX'] = '1'\n",
    "rawData.loc[rawData['SEX'] == 'female', 'SEX'] = '2'\n",
    "\n",
    "rawData.loc[rawData['EDUCATION'] == 'graduate school', 'EDUCATION'] = '1'\n",
    "rawData.loc[rawData['EDUCATION'] == 'university', 'EDUCATION'] = '2'\n",
    "rawData.loc[rawData['EDUCATION'] == 'high school', 'EDUCATION'] = '3'\n",
    "rawData.loc[rawData['EDUCATION'] == 'other', 'EDUCATION'] = '4'\n",
    "\n",
    "rawData.loc[rawData['MARRIAGE'] == 'married', 'MARRIAGE'] = '1'\n",
    "rawData.loc[rawData['MARRIAGE'] == 'single', 'MARRIAGE'] = '2'\n",
    "rawData.loc[rawData['MARRIAGE'] == 'divorce', 'MARRIAGE'] = '3'\n",
    "rawData.loc[rawData['MARRIAGE'] == 'others', 'MARRIAGE'] = '0'\n",
    "\n",
    "rawData.loc[rawData['default payment next month'] == 'not default', 'default payment next month'] = '0'\n",
    "rawData.loc[rawData['default payment next month'] == 'default', 'default payment next month'] = '1'\n",
    "\n",
    "rawData.loc[rawData['age_bins'] == '(21.0, 27.0]', 'age_bins'] = '1'\n",
    "rawData.loc[rawData['age_bins'] == '(27.0, 31.0]', 'age_bins'] = '2'\n",
    "rawData.loc[rawData['age_bins'] == '(31.0, 37.0]', 'age_bins'] = '3'\n",
    "rawData.loc[rawData['age_bins'] == '(37.0, 43.0]', 'age_bins'] = '4'\n",
    "rawData.loc[rawData['age_bins'] == '(43.0, 80.0]', 'age_bins'] = '5'\n",
    "\n",
    "rawData.head()"
   ]
  },
  {
   "cell_type": "code",
   "execution_count": 149,
   "metadata": {},
   "outputs": [],
   "source": [
    "model2 = DecisionTreeClassifier()"
   ]
  },
  {
   "cell_type": "code",
   "execution_count": 150,
   "metadata": {},
   "outputs": [
    {
     "name": "stdout",
     "output_type": "stream",
     "text": [
      "Summary of feature sample\n"
     ]
    },
    {
     "data": {
      "text/html": [
       "<div>\n",
       "<style scoped>\n",
       "    .dataframe tbody tr th:only-of-type {\n",
       "        vertical-align: middle;\n",
       "    }\n",
       "\n",
       "    .dataframe tbody tr th {\n",
       "        vertical-align: top;\n",
       "    }\n",
       "\n",
       "    .dataframe thead th {\n",
       "        text-align: right;\n",
       "    }\n",
       "</style>\n",
       "<table border=\"1\" class=\"dataframe\">\n",
       "  <thead>\n",
       "    <tr style=\"text-align: right;\">\n",
       "      <th></th>\n",
       "      <th>LIMIT_BAL</th>\n",
       "      <th>SEX</th>\n",
       "      <th>EDUCATION</th>\n",
       "      <th>MARRIAGE</th>\n",
       "      <th>AGE</th>\n",
       "      <th>PAY_0</th>\n",
       "      <th>PAY_2</th>\n",
       "      <th>PAY_3</th>\n",
       "      <th>PAY_4</th>\n",
       "      <th>PAY_5</th>\n",
       "      <th>...</th>\n",
       "      <th>BILL_AMT3</th>\n",
       "      <th>BILL_AMT4</th>\n",
       "      <th>BILL_AMT5</th>\n",
       "      <th>BILL_AMT6</th>\n",
       "      <th>PAY_AMT1</th>\n",
       "      <th>PAY_AMT2</th>\n",
       "      <th>PAY_AMT3</th>\n",
       "      <th>PAY_AMT4</th>\n",
       "      <th>PAY_AMT5</th>\n",
       "      <th>PAY_AMT6</th>\n",
       "    </tr>\n",
       "  </thead>\n",
       "  <tbody>\n",
       "    <tr>\n",
       "      <th>0</th>\n",
       "      <td>3913</td>\n",
       "      <td>2</td>\n",
       "      <td>2</td>\n",
       "      <td>1</td>\n",
       "      <td>24</td>\n",
       "      <td>2</td>\n",
       "      <td>2</td>\n",
       "      <td>-1</td>\n",
       "      <td>-1</td>\n",
       "      <td>-2</td>\n",
       "      <td>...</td>\n",
       "      <td>689</td>\n",
       "      <td>0</td>\n",
       "      <td>0</td>\n",
       "      <td>0</td>\n",
       "      <td>0</td>\n",
       "      <td>689</td>\n",
       "      <td>0</td>\n",
       "      <td>0</td>\n",
       "      <td>0</td>\n",
       "      <td>0</td>\n",
       "    </tr>\n",
       "    <tr>\n",
       "      <th>1</th>\n",
       "      <td>2682</td>\n",
       "      <td>2</td>\n",
       "      <td>2</td>\n",
       "      <td>2</td>\n",
       "      <td>26</td>\n",
       "      <td>-1</td>\n",
       "      <td>2</td>\n",
       "      <td>0</td>\n",
       "      <td>0</td>\n",
       "      <td>0</td>\n",
       "      <td>...</td>\n",
       "      <td>2682</td>\n",
       "      <td>3272</td>\n",
       "      <td>3455</td>\n",
       "      <td>3261</td>\n",
       "      <td>0</td>\n",
       "      <td>1000</td>\n",
       "      <td>1000</td>\n",
       "      <td>1000</td>\n",
       "      <td>0</td>\n",
       "      <td>2000</td>\n",
       "    </tr>\n",
       "    <tr>\n",
       "      <th>2</th>\n",
       "      <td>29239</td>\n",
       "      <td>2</td>\n",
       "      <td>2</td>\n",
       "      <td>2</td>\n",
       "      <td>34</td>\n",
       "      <td>0</td>\n",
       "      <td>0</td>\n",
       "      <td>0</td>\n",
       "      <td>0</td>\n",
       "      <td>0</td>\n",
       "      <td>...</td>\n",
       "      <td>13559</td>\n",
       "      <td>14331</td>\n",
       "      <td>14948</td>\n",
       "      <td>15549</td>\n",
       "      <td>1518</td>\n",
       "      <td>1500</td>\n",
       "      <td>1000</td>\n",
       "      <td>1000</td>\n",
       "      <td>1000</td>\n",
       "      <td>5000</td>\n",
       "    </tr>\n",
       "    <tr>\n",
       "      <th>3</th>\n",
       "      <td>46990</td>\n",
       "      <td>2</td>\n",
       "      <td>2</td>\n",
       "      <td>1</td>\n",
       "      <td>37</td>\n",
       "      <td>0</td>\n",
       "      <td>0</td>\n",
       "      <td>0</td>\n",
       "      <td>0</td>\n",
       "      <td>0</td>\n",
       "      <td>...</td>\n",
       "      <td>49291</td>\n",
       "      <td>28314</td>\n",
       "      <td>28959</td>\n",
       "      <td>29547</td>\n",
       "      <td>2000</td>\n",
       "      <td>2019</td>\n",
       "      <td>1200</td>\n",
       "      <td>1100</td>\n",
       "      <td>1069</td>\n",
       "      <td>1000</td>\n",
       "    </tr>\n",
       "    <tr>\n",
       "      <th>4</th>\n",
       "      <td>8617</td>\n",
       "      <td>1</td>\n",
       "      <td>2</td>\n",
       "      <td>1</td>\n",
       "      <td>57</td>\n",
       "      <td>-1</td>\n",
       "      <td>0</td>\n",
       "      <td>-1</td>\n",
       "      <td>0</td>\n",
       "      <td>0</td>\n",
       "      <td>...</td>\n",
       "      <td>35835</td>\n",
       "      <td>20940</td>\n",
       "      <td>19146</td>\n",
       "      <td>19131</td>\n",
       "      <td>2000</td>\n",
       "      <td>36681</td>\n",
       "      <td>10000</td>\n",
       "      <td>9000</td>\n",
       "      <td>689</td>\n",
       "      <td>679</td>\n",
       "    </tr>\n",
       "  </tbody>\n",
       "</table>\n",
       "<p>5 rows × 23 columns</p>\n",
       "</div>"
      ],
      "text/plain": [
       "   LIMIT_BAL SEX EDUCATION MARRIAGE  AGE PAY_0 PAY_2 PAY_3 PAY_4 PAY_5  ...  \\\n",
       "0       3913   2         2        1   24     2     2    -1    -1    -2  ...   \n",
       "1       2682   2         2        2   26    -1     2     0     0     0  ...   \n",
       "2      29239   2         2        2   34     0     0     0     0     0  ...   \n",
       "3      46990   2         2        1   37     0     0     0     0     0  ...   \n",
       "4       8617   1         2        1   57    -1     0    -1     0     0  ...   \n",
       "\n",
       "  BILL_AMT3  BILL_AMT4  BILL_AMT5  BILL_AMT6  PAY_AMT1  PAY_AMT2  PAY_AMT3  \\\n",
       "0       689          0          0          0         0       689         0   \n",
       "1      2682       3272       3455       3261         0      1000      1000   \n",
       "2     13559      14331      14948      15549      1518      1500      1000   \n",
       "3     49291      28314      28959      29547      2000      2019      1200   \n",
       "4     35835      20940      19146      19131      2000     36681     10000   \n",
       "\n",
       "   PAY_AMT4  PAY_AMT5  PAY_AMT6  \n",
       "0         0         0         0  \n",
       "1      1000         0      2000  \n",
       "2      1000      1000      5000  \n",
       "3      1100      1069      1000  \n",
       "4      9000       689       679  \n",
       "\n",
       "[5 rows x 23 columns]"
      ]
     },
     "execution_count": 150,
     "metadata": {},
     "output_type": "execute_result"
    }
   ],
   "source": [
    "#features\n",
    "X2 = rawData.iloc[:,[1,2,3,4,5,6,7,8,9,10,11,12,13,14,15,16,17,18,19,20,21,22,23]]\n",
    "print('Summary of feature sample')\n",
    "X2.head()"
   ]
  },
  {
   "cell_type": "code",
   "execution_count": 151,
   "metadata": {},
   "outputs": [
    {
     "data": {
      "text/plain": [
       "0    1\n",
       "1    1\n",
       "2    0\n",
       "3    0\n",
       "4    0\n",
       "Name: default payment next month, dtype: object"
      ]
     },
     "execution_count": 151,
     "metadata": {},
     "output_type": "execute_result"
    }
   ],
   "source": [
    "#dependent variable\n",
    "y2 = rawData['default payment next month']\n",
    "y2.head()"
   ]
  },
  {
   "cell_type": "markdown",
   "metadata": {},
   "source": [
    "#### - División Train/Test"
   ]
  },
  {
   "cell_type": "code",
   "execution_count": 154,
   "metadata": {},
   "outputs": [],
   "source": [
    "#Train/Test Split\n",
    "X2_train, X2_test, y2_train, y2_test = train_test_split(X2, y2, test_size = .30, random_state = 123)"
   ]
  },
  {
   "cell_type": "markdown",
   "metadata": {},
   "source": [
    "#### - Aplicación de Modelo (Train)"
   ]
  },
  {
   "cell_type": "code",
   "execution_count": 215,
   "metadata": {},
   "outputs": [],
   "source": [
    "#Modeling (Classification)\n",
    "clf = DecisionTreeClassifier()\n",
    "model = clf.fit(X2_train,y2_train)"
   ]
  },
  {
   "cell_type": "markdown",
   "metadata": {},
   "source": [
    "#### - Aplicacián de Modelo (Test)"
   ]
  },
  {
   "cell_type": "code",
   "execution_count": 216,
   "metadata": {},
   "outputs": [],
   "source": [
    "#Predictions\n",
    "preds = model.predict(X2_test)"
   ]
  },
  {
   "cell_type": "markdown",
   "metadata": {},
   "source": [
    "#### - Informe"
   ]
  },
  {
   "cell_type": "code",
   "execution_count": 217,
   "metadata": {},
   "outputs": [
    {
     "name": "stdout",
     "output_type": "stream",
     "text": [
      "              precision    recall  f1-score   support\n",
      "\n",
      "           0       0.84      0.82      0.83      7086\n",
      "           1       0.39      0.42      0.40      1955\n",
      "\n",
      "    accuracy                           0.73      9041\n",
      "   macro avg       0.61      0.62      0.61      9041\n",
      "weighted avg       0.74      0.73      0.73      9041\n",
      "\n"
     ]
    }
   ],
   "source": [
    "print(classification_report(y2_test, preds))"
   ]
  },
  {
   "cell_type": "code",
   "execution_count": 218,
   "metadata": {},
   "outputs": [
    {
     "name": "stdout",
     "output_type": "stream",
     "text": [
      "0.7311138148434908\n"
     ]
    }
   ],
   "source": [
    "score = clf.score(X2_test, y2_test)\n",
    "print(score)"
   ]
  },
  {
   "cell_type": "code",
   "execution_count": 219,
   "metadata": {},
   "outputs": [
    {
     "name": "stdout",
     "output_type": "stream",
     "text": [
      "[[5792 1294]\n",
      " [1137  818]]\n"
     ]
    }
   ],
   "source": [
    "print(confusion_matrix(y2_test, preds))"
   ]
  },
  {
   "cell_type": "markdown",
   "metadata": {},
   "source": [
    "    - Luego de aplicar el modelo Arboles de Desición se obtuvo como resultado general a nivel de presición un 73%, se podria decir que no esta mal para la corrida incial, calibraremos el hiperparametro max_depth para ver que resultado obtenemos."
   ]
  },
  {
   "cell_type": "markdown",
   "metadata": {},
   "source": [
    "#### - Ajuste de Hiperparametro max_depth"
   ]
  },
  {
   "cell_type": "code",
   "execution_count": 159,
   "metadata": {},
   "outputs": [],
   "source": [
    "# List of values to try for max_depth:\n",
    "max_depth_range = list(range(1, 20))\n",
    "accuracy = []\n",
    "for depth in max_depth_range:\n",
    "    clf = DecisionTreeClassifier(max_depth = depth, \n",
    "                             random_state = 0)\n",
    "    clf.fit(X2_train, y2_train)    \n",
    "    score = clf.score(X2_test, y2_test)\n",
    "    accuracy.append(score)"
   ]
  },
  {
   "cell_type": "markdown",
   "metadata": {},
   "source": [
    "    - Resultado"
   ]
  },
  {
   "cell_type": "code",
   "execution_count": 160,
   "metadata": {},
   "outputs": [
    {
     "data": {
      "text/plain": [
       "[0.8189359584116801,\n",
       " 0.8190465656453932,\n",
       " 0.8210374958522287,\n",
       " 0.8215905320207941,\n",
       " 0.8172768499059838,\n",
       " 0.8184935294768277,\n",
       " 0.8167238137374184,\n",
       " 0.8139586328945914,\n",
       " 0.8116358809866165,\n",
       " 0.8065479482358147,\n",
       " 0.8035615529255613,\n",
       " 0.8000221214467426,\n",
       " 0.7982524057073332,\n",
       " 0.7948235814622276,\n",
       " 0.7873022895697379,\n",
       " 0.7821037495852229,\n",
       " 0.7723703130184714,\n",
       " 0.7700475611104967,\n",
       " 0.7719278840836191]"
      ]
     },
     "execution_count": 160,
     "metadata": {},
     "output_type": "execute_result"
    }
   ],
   "source": [
    "accuracy"
   ]
  },
  {
   "cell_type": "code",
   "execution_count": 161,
   "metadata": {
    "scrolled": true
   },
   "outputs": [
    {
     "data": {
      "image/png": "[encoded data removed]",
      "text/plain": [
       "<Figure size 432x288 with 1 Axes>"
      ]
     },
     "metadata": {
      "needs_background": "light"
     },
     "output_type": "display_data"
    }
   ],
   "source": [
    "x = max_depth_range \n",
    "y = accuracy\n",
    "plt.plot(x, y, \"b-\")\n",
    "plt.show()"
   ]
  },
  {
   "cell_type": "markdown",
   "metadata": {},
   "source": [
    " - Seleccionamos el max_depth = 4 como ajuste optimo."
   ]
  },
  {
   "cell_type": "code",
   "execution_count": 190,
   "metadata": {},
   "outputs": [],
   "source": [
    "#Modeling (Classification)\n",
    "clf = DecisionTreeClassifier(max_depth = 4)\n",
    "model = clf.fit(X2_train,y2_train)\n",
    "\n",
    "#Predictions\n",
    "preds = model.predict(X2_test)"
   ]
  },
  {
   "cell_type": "code",
   "execution_count": 191,
   "metadata": {},
   "outputs": [
    {
     "name": "stdout",
     "output_type": "stream",
     "text": [
      "              precision    recall  f1-score   support\n",
      "\n",
      "           0       0.84      0.95      0.89      7086\n",
      "           1       0.66      0.35      0.46      1955\n",
      "\n",
      "    accuracy                           0.82      9041\n",
      "   macro avg       0.75      0.65      0.68      9041\n",
      "weighted avg       0.80      0.82      0.80      9041\n",
      "\n"
     ]
    }
   ],
   "source": [
    "print(classification_report(y2_test, preds))"
   ]
  },
  {
   "cell_type": "code",
   "execution_count": 192,
   "metadata": {},
   "outputs": [
    {
     "name": "stdout",
     "output_type": "stream",
     "text": [
      "[[6736  350]\n",
      " [1263  692]]\n"
     ]
    }
   ],
   "source": [
    "print(confusion_matrix(y2_test, preds))"
   ]
  },
  {
   "cell_type": "markdown",
   "metadata": {},
   "source": [
    "    - Luego de ejecutar nuevamente el modelo aplicando el ajuste en el hiperparametro max_depth, se logra obtener un \n",
    "    incremento casi del 70% en la precición del modelo en la detección de los default pasamos de tener 39% a 66%."
   ]
  },
  {
   "cell_type": "markdown",
   "metadata": {},
   "source": [
    "#### - Ajustes de Max_depth (Random Forest Classifier)"
   ]
  },
  {
   "cell_type": "code",
   "execution_count": 169,
   "metadata": {},
   "outputs": [],
   "source": [
    "# List of values to try for max_depth:\n",
    "max_depth_range = list(range(1, 12))\n",
    "accuracy = []\n",
    "for depth in max_depth_range:\n",
    "    clf = RandomForestClassifier(max_depth = depth, \n",
    "                             random_state = 0)\n",
    "    clf.fit(X2_train, y2_train)    \n",
    "    score = clf.score(X2_test, y2_test)\n",
    "    accuracy.append(score)"
   ]
  },
  {
   "cell_type": "code",
   "execution_count": 170,
   "metadata": {},
   "outputs": [
    {
     "data": {
      "text/plain": [
       "[0.7880765402057295,\n",
       " 0.80566309036611,\n",
       " 0.8120783099214689,\n",
       " 0.8150647052317221,\n",
       " 0.8160601703351399,\n",
       " 0.8211481030859418,\n",
       " 0.8218117464882203,\n",
       " 0.8220329609556465,\n",
       " 0.8209268886185157,\n",
       " 0.8203738524499502,\n",
       " 0.820152637982524]"
      ]
     },
     "execution_count": 170,
     "metadata": {},
     "output_type": "execute_result"
    }
   ],
   "source": [
    "accuracy"
   ]
  },
  {
   "cell_type": "code",
   "execution_count": 171,
   "metadata": {
    "scrolled": true
   },
   "outputs": [
    {
     "data": {
      "image/png": "[encoded data removed]",
      "text/plain": [
       "<Figure size 432x288 with 1 Axes>"
      ]
     },
     "metadata": {
      "needs_background": "light"
     },
     "output_type": "display_data"
    }
   ],
   "source": [
    "x = max_depth_range \n",
    "y = accuracy\n",
    "plt.plot(x, y, \"b-\")\n",
    "plt.show()"
   ]
  },
  {
   "cell_type": "code",
   "execution_count": 193,
   "metadata": {},
   "outputs": [],
   "source": [
    "#Modeling (Classification)\n",
    "clf = RandomForestClassifier(max_depth = 8)\n",
    "model = clf.fit(X2_train,y2_train)\n",
    "\n",
    "#Predictions\n",
    "preds = model.predict(X2_test)"
   ]
  },
  {
   "cell_type": "code",
   "execution_count": 194,
   "metadata": {},
   "outputs": [
    {
     "name": "stdout",
     "output_type": "stream",
     "text": [
      "              precision    recall  f1-score   support\n",
      "\n",
      "           0       0.84      0.95      0.89      7086\n",
      "           1       0.67      0.35      0.46      1955\n",
      "\n",
      "    accuracy                           0.82      9041\n",
      "   macro avg       0.75      0.65      0.68      9041\n",
      "weighted avg       0.80      0.82      0.80      9041\n",
      "\n"
     ]
    }
   ],
   "source": [
    "print(classification_report(y2_test, preds))"
   ]
  },
  {
   "cell_type": "code",
   "execution_count": 195,
   "metadata": {},
   "outputs": [
    {
     "name": "stdout",
     "output_type": "stream",
     "text": [
      "[[6743  343]\n",
      " [1268  687]]\n"
     ]
    }
   ],
   "source": [
    "print(confusion_matrix(y2_test, preds))"
   ]
  },
  {
   "cell_type": "markdown",
   "metadata": {},
   "source": [
    "### Modelling: Cross Validation Method"
   ]
  },
  {
   "cell_type": "code",
   "execution_count": 202,
   "metadata": {},
   "outputs": [],
   "source": [
    "algos_Class = []\n",
    "algos_Class.append(('Random Forest Classifier', RandomForestClassifier(max_depth = 8)))\n",
    "algos_Class.append(('Decision Tree Classifier', DecisionTreeClassifier(max_depth = 4)))\n",
    "algos_Class.append(('Gradient Boosting Classifier', GradientBoostingClassifier(max_depth = 3)))\n",
    "algos_Class.append(('Naive Bayes Gaussian', GaussianNB()))\n",
    "algos_Class.append(('Suport Vector Machine', SVC()))"
   ]
  },
  {
   "cell_type": "code",
   "execution_count": 203,
   "metadata": {},
   "outputs": [],
   "source": [
    "#classification\n",
    "results = []\n",
    "names = []\n",
    "for name, model in algos_Class:\n",
    "    result = cross_val_score(model, X2,y2, cv=3, scoring='accuracy')\n",
    "    names.append(name)\n",
    "    results.append(result)"
   ]
  },
  {
   "cell_type": "code",
   "execution_count": 204,
   "metadata": {},
   "outputs": [
    {
     "name": "stdout",
     "output_type": "stream",
     "text": [
      "Random Forest Classifier 0.8189090550111119\n",
      "Decision Tree Classifier 0.8201700406051436\n",
      "Gradient Boosting Classifier 0.8204355985480709\n",
      "Naive Bayes Gaussian 0.37811262104282223\n",
      "Suport Vector Machine 0.7787548987210546\n"
     ]
    }
   ],
   "source": [
    "for i in range(len(names)):\n",
    "    print(names[i],results[i].mean())"
   ]
  },
  {
   "cell_type": "markdown",
   "metadata": {},
   "source": [
    "    - A nivel de presición general y contemplando el ajuste en el hiperparametro max_depth para RandomFores, DecisionTree y GradientBoosting, el Modelo que nos da el mejor resultado es Gradient Boosting Classifier."
   ]
  },
  {
   "cell_type": "markdown",
   "metadata": {},
   "source": [
    "#### - Ajustes de Max_depth (Gradient Boosting Classifier)"
   ]
  },
  {
   "cell_type": "code",
   "execution_count": 197,
   "metadata": {},
   "outputs": [],
   "source": [
    "# List of values to try for max_depth:\n",
    "max_depth_range = list(range(1, 12))\n",
    "accuracy = []\n",
    "for depth in max_depth_range:\n",
    "    clf = GradientBoostingClassifier(max_depth = depth, \n",
    "                             random_state = 0)\n",
    "    clf.fit(X2_train, y2_train)    \n",
    "    score = clf.score(X2_test, y2_test)\n",
    "    accuracy.append(score)"
   ]
  },
  {
   "cell_type": "code",
   "execution_count": 198,
   "metadata": {},
   "outputs": [
    {
     "data": {
      "text/plain": [
       "[0.8199314235150978,\n",
       " 0.823913283928769,\n",
       " 0.824023891162482,\n",
       " 0.8231390332927774,\n",
       " 0.8211481030859418,\n",
       " 0.8178298860745493,\n",
       " 0.8169450282048446,\n",
       " 0.816170777568853,\n",
       " 0.813516203959739,\n",
       " 0.8126313460900343,\n",
       " 0.8169450282048446]"
      ]
     },
     "execution_count": 198,
     "metadata": {},
     "output_type": "execute_result"
    }
   ],
   "source": [
    "accuracy"
   ]
  },
  {
   "cell_type": "markdown",
   "metadata": {},
   "source": [
    "    - Max_depth seleccionado = 3"
   ]
  },
  {
   "cell_type": "markdown",
   "metadata": {},
   "source": [
    "### - Resumen de Reportes de clasificación de los modelos"
   ]
  },
  {
   "cell_type": "code",
   "execution_count": 227,
   "metadata": {},
   "outputs": [
    {
     "name": "stdout",
     "output_type": "stream",
     "text": [
      "              precision    recall  f1-score   support\n",
      "\n",
      "           0       0.84      0.82      0.83      7086\n",
      "           1       0.39      0.42      0.40      1955\n",
      "\n",
      "    accuracy                           0.73      9041\n",
      "   macro avg       0.61      0.62      0.62      9041\n",
      "weighted avg       0.74      0.73      0.74      9041\n",
      "\n"
     ]
    }
   ],
   "source": [
    "#Modeling (Classification)\n",
    "clf = DecisionTreeClassifier()\n",
    "model = clf.fit(X2_train,y2_train)\n",
    "\n",
    "#Predictions\n",
    "preds = model.predict(X2_test)\n",
    "\n",
    "print(classification_report(y2_test, preds))"
   ]
  },
  {
   "cell_type": "code",
   "execution_count": 228,
   "metadata": {},
   "outputs": [
    {
     "name": "stdout",
     "output_type": "stream",
     "text": [
      "[[5798 1288]\n",
      " [1134  821]]\n"
     ]
    }
   ],
   "source": [
    "print(confusion_matrix(y2_test, preds))"
   ]
  },
  {
   "cell_type": "code",
   "execution_count": 222,
   "metadata": {},
   "outputs": [
    {
     "name": "stdout",
     "output_type": "stream",
     "text": [
      "              precision    recall  f1-score   support\n",
      "\n",
      "           0       0.84      0.95      0.89      7086\n",
      "           1       0.67      0.35      0.46      1955\n",
      "\n",
      "    accuracy                           0.82      9041\n",
      "   macro avg       0.75      0.65      0.67      9041\n",
      "weighted avg       0.80      0.82      0.80      9041\n",
      "\n"
     ]
    }
   ],
   "source": [
    "#Modeling (Classification)\n",
    "clf =  RandomForestClassifier(max_depth = 8)\n",
    "model = clf.fit(X2_train,y2_train)\n",
    "\n",
    "#Predictions\n",
    "preds = model.predict(X2_test)\n",
    "\n",
    "print(classification_report(y2_test, preds))"
   ]
  },
  {
   "cell_type": "code",
   "execution_count": 224,
   "metadata": {},
   "outputs": [
    {
     "name": "stdout",
     "output_type": "stream",
     "text": [
      "[[6750  336]\n",
      " [1278  677]]\n"
     ]
    }
   ],
   "source": [
    "print(confusion_matrix(y2_test, preds))"
   ]
  },
  {
   "cell_type": "code",
   "execution_count": 225,
   "metadata": {
    "scrolled": true
   },
   "outputs": [
    {
     "name": "stdout",
     "output_type": "stream",
     "text": [
      "              precision    recall  f1-score   support\n",
      "\n",
      "           0       0.84      0.95      0.89      7086\n",
      "           1       0.66      0.35      0.46      1955\n",
      "\n",
      "    accuracy                           0.82      9041\n",
      "   macro avg       0.75      0.65      0.68      9041\n",
      "weighted avg       0.80      0.82      0.80      9041\n",
      "\n"
     ]
    }
   ],
   "source": [
    "#Modeling (Classification)\n",
    "clf = DecisionTreeClassifier(max_depth = 4)\n",
    "model = clf.fit(X2_train,y2_train)\n",
    "\n",
    "#Predictions\n",
    "preds = model.predict(X2_test)\n",
    "\n",
    "print(classification_report(y2_test, preds))"
   ]
  },
  {
   "cell_type": "code",
   "execution_count": 226,
   "metadata": {},
   "outputs": [
    {
     "name": "stdout",
     "output_type": "stream",
     "text": [
      "[[6736  350]\n",
      " [1263  692]]\n"
     ]
    }
   ],
   "source": [
    "print(confusion_matrix(y2_test, preds))"
   ]
  },
  {
   "cell_type": "code",
   "execution_count": 220,
   "metadata": {},
   "outputs": [
    {
     "name": "stdout",
     "output_type": "stream",
     "text": [
      "              precision    recall  f1-score   support\n",
      "\n",
      "           0       0.84      0.95      0.89      7086\n",
      "           1       0.67      0.36      0.47      1955\n",
      "\n",
      "    accuracy                           0.82      9041\n",
      "   macro avg       0.76      0.66      0.68      9041\n",
      "weighted avg       0.81      0.82      0.80      9041\n",
      "\n"
     ]
    }
   ],
   "source": [
    "#Modeling (Classification)\n",
    "clf = GradientBoostingClassifier(max_depth = 3)\n",
    "model = clf.fit(X2_train,y2_train)\n",
    "\n",
    "#Predictions\n",
    "preds = model.predict(X2_test)\n",
    "\n",
    "print(classification_report(y2_test, preds))"
   ]
  },
  {
   "cell_type": "code",
   "execution_count": 221,
   "metadata": {},
   "outputs": [
    {
     "name": "stdout",
     "output_type": "stream",
     "text": [
      "[[6741  345]\n",
      " [1247  708]]\n"
     ]
    }
   ],
   "source": [
    "print(confusion_matrix(y2_test, preds))"
   ]
  },
  {
   "cell_type": "markdown",
   "metadata": {},
   "source": [
    "### - Resumen de Hallazgos"
   ]
  },
  {
   "attachments": {},
   "cell_type": "markdown",
   "metadata": {},
   "source": [
    "    - A nivel de precisión general, el modelo que dió un mejor resultado fue \"GradientBoostingClassifier\" con un 82.39%, \n",
    "    solo unas milesimas por arriba de RandomForestClassifier(ajustado) y DecisionTreeClassifier(ajustado). Sin embargo \n",
    "    teniendo presente que lo que se desea predecir es si la persona va a caer en deafult, es importante que \n",
    "    consideremos como estan los resultados de las metricas de los modelos en relación a esta variable (default=1).\n",
    "\n",
    "    -Resultados de las Metricas por modelo:"
   ]
  },
  {
   "attachments": {
    "prueba2.jpg": {
     "image/jpeg": "[encoded data removed]"
    }
   },
   "cell_type": "markdown",
   "metadata": {},
   "source": [
    "![prueba2.jpg](attachment:prueba2.jpg)"
   ]
  },
  {
   "attachments": {
    "matrices.jpg": {
     "image/jpeg": "[encoded data removed]"
    }
   },
   "cell_type": "markdown",
   "metadata": {},
   "source": [
    "![matrices.jpg](attachment:matrices.jpg)"
   ]
  },
  {
   "cell_type": "markdown",
   "metadata": {},
   "source": [
    "    - En los resultados de las metricas podemos observar que a nivel de sensibilidad DecisionTreeClassifer es el modelo que \n",
    "    nos da un resultado más alto a pesar de que en Exactitud es el mas bajo de los 4 modelos. Si vemos las matrices de \n",
    "    confusión se puede observar que ese modelo es el que predijo que 821 personas cayeron en Default y en realidad si \n",
    "    cayeron, en promedio un 15% más que los otros modelos, sin embargo si vemos la parte de los errores ese modelo predijo \n",
    "    como Default 1,288 personas que en realidad no cayeron (un 360% más en promedio que los otros modelos).\n",
    "    \n",
    "    - El problema inicial indica que las tasas de incumplimiento han aumentado, y si es posible aprobar a los clientes con \n",
    "    alta certeza o como podemos asegurar que los clientes puedan pagar sus prestamos. Como todas las entidades financieras \n",
    "    lo necesitan, hay que tener en cuenta el apetito de riesgo que desea mantener la empresa (cantidad de riesgo que desea\n",
    "    asumir). Si utilizamos el modelo #1 como ejemplo, podemos ver que es el que más clientes que caen en Default predice, \n",
    "    sin embargo tambien este modelo supera en aproximadamente un 360% a los otros prediciendo personas como que van a caer \n",
    "    en Default que en realidad no cayeron, por lo que se debe evaluar si vale la pena utilizar el modelo que predice una \n",
    "    mayor cantidad de clientes default pero que a su ves se equivoca más prediciendo los que no cayeron en default.\n",
    "    \n",
    "    - De acuerdo con lo anterior el modelo que se recomendaria utilizar es el #4 (Gradient Boosting Classifier, ajustado), \n",
    "    éste modelo presenta un accuracy de 82%, una sensibilidad del 67%(% de Default Real predichos/total Default predicho). \n",
    "    Este modelo a nivel de Predicción de Default es el segundo mas alto y es tambien el segundo en predecir menos Default\n",
    "    errados, y es el que nos da un F1 Score más alto de los 4 modelos.  "
   ]
  },
  {
   "cell_type": "code",
   "execution_count": null,
   "metadata": {},
   "outputs": [],
   "source": []
  }
 ],
 "metadata": {
  "kernelspec": {
   "display_name": "Python 3",
   "language": "python",
   "name": "python3"
  },
  "language_info": {
   "codemirror_mode": {
    "name": "ipython",
    "version": 3
   },
   "file_extension": ".py",
   "mimetype": "text/x-python",
   "name": "python",
   "nbconvert_exporter": "python",
   "pygments_lexer": "ipython3",
   "version": "3.8.5"
  }
 },
 "nbformat": 4,
 "nbformat_minor": 4
}
